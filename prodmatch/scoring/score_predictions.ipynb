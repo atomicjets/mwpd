{
 "cells": [
  {
   "cell_type": "code",
   "execution_count": 1,
   "metadata": {},
   "outputs": [],
   "source": [
    "import pandas as pd\n",
    "import numpy as np\n",
    "np.random.seed(42)\n",
    "import random\n",
    "random.seed(42)\n",
    "\n",
    "from sklearn.metrics import classification_report"
   ]
  },
  {
   "cell_type": "code",
   "execution_count": 2,
   "metadata": {},
   "outputs": [],
   "source": [
    "# load validation set to get labels\n",
    "validation_set = pd.read_json('computers_validation.json.gz', lines=True)\n",
    "validation_labels = validation_set['label'].tolist()"
   ]
  },
  {
   "cell_type": "code",
   "execution_count": 3,
   "metadata": {},
   "outputs": [],
   "source": [
    "# load own predictions (randomly generated in this example)\n",
    "# WARNING: make sure order of predictions corresponds to order of labels from loaded validation set!\n",
    "my_predictions = np.random.randint(2, size=len(validation_labels))"
   ]
  },
  {
   "cell_type": "code",
   "execution_count": 4,
   "metadata": {},
   "outputs": [
    {
     "name": "stdout",
     "output_type": "stream",
     "text": [
      "              precision    recall  f1-score   support\n",
      "\n",
      "           0       0.73      0.51      0.60       800\n",
      "           1       0.28      0.51      0.36       300\n",
      "\n",
      "    accuracy                           0.51      1100\n",
      "   macro avg       0.51      0.51      0.48      1100\n",
      "weighted avg       0.61      0.51      0.53      1100\n",
      "\n"
     ]
    }
   ],
   "source": [
    "# output result scores in dict\n",
    "result = classification_report(validation_labels, my_predictions, output_dict=True)\n",
    "\n",
    "# pretty print results scores to stdout\n",
    "print(classification_report(validation_labels, my_predictions))"
   ]
  }
 ],
 "metadata": {
  "kernelspec": {
   "display_name": "Python 3",
   "language": "python",
   "name": "python3"
  },
  "language_info": {
   "codemirror_mode": {
    "name": "ipython",
    "version": 3
   },
   "file_extension": ".py",
   "mimetype": "text/x-python",
   "name": "python",
   "nbconvert_exporter": "python",
   "pygments_lexer": "ipython3",
   "version": "3.7.6"
  }
 },
 "nbformat": 4,
 "nbformat_minor": 4
}
