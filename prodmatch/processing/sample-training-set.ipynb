{
 "cells": [
  {
   "cell_type": "code",
   "execution_count": 1,
   "metadata": {},
   "outputs": [],
   "source": [
    "import pandas as pd\n",
    "import numpy as np\n",
    "np.random.seed(42)\n",
    "import random\n",
    "random.seed(42)\n",
    "\n",
    "from tqdm.notebook import tqdm\n",
    "import time\n",
    "\n",
    "from gensim.corpora import Dictionary\n",
    "from gensim.similarities import SparseMatrixSimilarity\n",
    "from gensim.similarities import Similarity"
   ]
  },
  {
   "cell_type": "markdown",
   "metadata": {},
   "source": [
    "## Two functions for building positive and negative pairs"
   ]
  },
  {
   "cell_type": "code",
   "execution_count": 2,
   "metadata": {},
   "outputs": [],
   "source": [
    "def build_positive_pairs(corpus, clusters, attribute, num_pos):\n",
    "    \"\"\"\n",
    "    Builds positive pairs for all offers in each cluster in 'clusters'\n",
    "    which can be found in 'corpus' using 'attribute' for calculating\n",
    "    BOW cosine similarity to select hard pairs.\n",
    "    Selects an equal amount of hard and random pairs depending on 'num_pos'\n",
    "    per offer. If it is not possible to build 'num_pos' pairs, the heuristic\n",
    "    will build as many pairs as possible for that cluster.\n",
    "    \n",
    "    Parameters:\n",
    "    corpus (pandas.DataFrame): Corpus containing product offers.\n",
    "    clusters (List): List of cluster_ids for which Positive pairs should be built.\n",
    "    attribute (str): Attribute of 'corpus' to use for similarity calculations.\n",
    "    num_pos (int): Number of positive examples to build per offer.\n",
    "    \n",
    "    Returns:\n",
    "    List(Tuple(int, List(List,List))): a list of tuples, each tuple containing\n",
    "    the offer id and a list of two lists containing the offer ids of the hard\n",
    "    and random pairs.\n",
    "    \"\"\"\n",
    "    pos_pairs = []\n",
    "    for current_cluster in tqdm(clusters):\n",
    "        cluster_data = corpus[corpus['cluster_id'] == current_cluster]\n",
    "        \n",
    "        # build gensim dictionary, corpus and search index for selected cluster\n",
    "        dct = Dictionary(cluster_data[attribute], prune_at=5000000)\n",
    "        dct.filter_extremes(no_below=2, no_above=1.0, keep_n=None)\n",
    "        gensim_corpus = [dct.doc2bow(text) for text in cluster_data[attribute]]\n",
    "        index = SparseMatrixSimilarity(gensim_corpus, num_features=len(dct),num_best=80)\n",
    "        \n",
    "        # query up to 80 most similar offers, only offers with similarity > 0 will be returned\n",
    "        query = index[gensim_corpus]\n",
    "        \n",
    "        for i, offer_sim_dup in enumerate(query):\n",
    "            \n",
    "            current_num_pos = num_pos\n",
    "            current_id = cluster_data.iloc[i]['id']\n",
    "            \n",
    "            offer_sim = []\n",
    "            \n",
    "            #remove self\n",
    "            for x in offer_sim_dup:\n",
    "                if x[0] != i:\n",
    "                    offer_sim.append(x)\n",
    "\n",
    "            # check if any pairs > 0 similarity remain\n",
    "            if len(offer_sim) == 0:\n",
    "                pos_pairs.append((current_id,[[],[]]))\n",
    "                continue\n",
    "                \n",
    "            # adapt number of selectable pairs if too few available\n",
    "            offer_len = len(offer_sim)\n",
    "            if offer_len < current_num_pos:\n",
    "                current_num_pos = offer_len\n",
    "\n",
    "            if current_num_pos == 1:\n",
    "                hard_pos = 1\n",
    "                random_pos = 0\n",
    "            elif current_num_pos % 2 == 1:\n",
    "                hard_pos = int(current_num_pos / 2) + 1\n",
    "                random_pos = int(current_num_pos / 2)\n",
    "            else:\n",
    "                hard_pos = int(current_num_pos / 2)\n",
    "                random_pos = int(current_num_pos / 2)\n",
    "\n",
    "            # get hard offers from bottom of list\n",
    "            hard_offers = offer_sim[-hard_pos:]\n",
    "            \n",
    "            if random_pos == 0:\n",
    "                pos_pairs.append((current_id, [[cluster_data.iloc[x[0]]['id'] for x in hard_offers],[]]))\n",
    "                continue\n",
    "                \n",
    "            # remaining offers\n",
    "            rest = offer_sim[:-hard_pos]\n",
    "\n",
    "            # randomly select from remaining\n",
    "            random_select = random.sample(range(len(rest)), random_pos)\n",
    "            random_offers = [rest[idx] for idx in random_select]\n",
    "\n",
    "            hard_ids = [cluster_data.iloc[x[0]]['id'] for x in hard_offers]\n",
    "            random_ids = [cluster_data.iloc[x[0]]['id'] for x in random_offers]\n",
    "            \n",
    "            pos_pairs.append((current_id, [hard_ids, random_ids]))\n",
    "    return pos_pairs\n",
    "\n",
    "def build_neg_pairs_for_cat(corpus, category, offers, attribute, num_neg):\n",
    "    \"\"\"\n",
    "    Builds negative pairs for all offers in 'offers' which are of category\n",
    "    'category' which can be found in 'corpus' using 'attribute' for calculating\n",
    "    BOW cosine similarity to select hard pairs.\n",
    "    Selects an equal amount of hard and random pairs depending on 'num_neg'\n",
    "    per offer. Each hard negative will originate from a different cluster\n",
    "    to avoid building hard negatives with only a small amount of different\n",
    "    products. If offers in 'offers' originate from multiple categories,\n",
    "    this function should be called multiple times while iterating over\n",
    "    the different categories.\n",
    "    \n",
    "    Parameters:\n",
    "    corpus (pandas.DataFrame): Corpus containing product offers\n",
    "    category (str): Category for which to build negatives\n",
    "    offers (List): List of offer_ids for which to build negatives\n",
    "    attribute (str): Attribute of 'corpus' to use for similarity calculations\n",
    "    num_neg (int): Number of negative examples to build per offer\n",
    "    \n",
    "    Returns:\n",
    "    List(Tuple(int, List(List,List))): a list of tuples, each tuple containing\n",
    "    the offer id and a list of two lists containing the offer ids of the hard\n",
    "    and random pairs.\n",
    "    \"\"\"\n",
    "    # select data from relevant category\n",
    "    cat_data = corpus[corpus['category'] == category].copy()\n",
    "    cat_data = cat_data.reset_index(drop=True)\n",
    "    cat_data['subindex'] = list(cat_data.index)\n",
    "    \n",
    "    # build gensim dictionary, corpus and search index for selected cluster\n",
    "    dct = Dictionary(cat_data[attribute], prune_at=5000000)\n",
    "    dct.filter_extremes(no_below=2, no_above=0.8, keep_n=None)\n",
    "    \n",
    "    gensim_corpus = [dct.doc2bow(text) for text in cat_data[attribute]]\n",
    "    \n",
    "    index = Similarity(None, gensim_corpus, num_features=len(dct), num_best=200)\n",
    "    \n",
    "    # corpus to select negatives against\n",
    "    corpus_neg_all = cat_data\n",
    "    \n",
    "    # corpus containing only offers for which negatives should be built\n",
    "    corpus_neg = corpus_neg_all[corpus_neg_all['id'].isin(offers)]\n",
    "    \n",
    "    neg_pairs_cat = []\n",
    "    \n",
    "    # query for 200 most similar offers across whole category\n",
    "    query_corpus = [gensim_corpus[i] for i in list(corpus_neg['subindex'])]\n",
    "    start = time.time()\n",
    "    query = index[query_corpus]\n",
    "    end = time.time()\n",
    "    print(f'Category {category} query took {end-start} seconds')\n",
    "    \n",
    "    for i, offer_sim in enumerate(tqdm(query)):\n",
    "        \n",
    "        current_index = corpus_neg.iloc[i]['subindex']\n",
    "        current_id = corpus_neg.iloc[i]['id']\n",
    "        current_cluster_id = corpus_neg.iloc[i]['cluster_id']\n",
    "        current_num_neg = num_neg\n",
    "        \n",
    "        # remove any offers with similarity 1.0\n",
    "        sim_indices = []\n",
    "        for x in offer_sim:\n",
    "            if x[1] >= 1.0:\n",
    "                continue\n",
    "            else:\n",
    "                sim_indices.append(x[0])\n",
    "        \n",
    "        possible_pairs = corpus_neg_all.loc[sim_indices]\n",
    "        \n",
    "        # filter by cluster_id, i.e. only 1 offer per cluster remains to allow for product diversity\n",
    "        idx = sorted(np.unique(possible_pairs['cluster_id'], return_index=True)[1])\n",
    "        \n",
    "        possible_pairs = possible_pairs.iloc[idx]\n",
    "        \n",
    "        # remove any offer from same cluster\n",
    "        possible_pairs = possible_pairs[possible_pairs['cluster_id'] != current_cluster_id]\n",
    "        \n",
    "        possible_pairs_len = len(possible_pairs)\n",
    "        \n",
    "        # check if any pairs > 0 similarity remain\n",
    "        if possible_pairs_len == 0:\n",
    "            neg_pairs_cat.append((current_id,[[],[]]))\n",
    "            continue\n",
    "        \n",
    "        # adapt number of selectable pairs if too few available\n",
    "        if possible_pairs_len < current_num_neg:\n",
    "            current_num_neg = possible_pairs_len\n",
    "\n",
    "        if current_num_neg == 1:\n",
    "            hard_neg = 1\n",
    "            random_neg = 0\n",
    "        elif current_num_neg % 2 == 1:\n",
    "            hard_neg = int(current_num_neg / 2) + 1\n",
    "            random_neg = int(current_num_neg / 2)\n",
    "        else:\n",
    "            hard_neg = int(current_num_neg / 2)\n",
    "            random_neg = int(current_num_neg / 2)\n",
    "        \n",
    "        # select hard pairs from top of list\n",
    "        candidates = possible_pairs.iloc[:hard_neg]\n",
    "        \n",
    "        hard_pairs = candidates['id'].tolist()\n",
    "        \n",
    "        if random_neg == 0:\n",
    "            neg_pairs_cat.append((current_id, [hard_pairs,[]]))\n",
    "            continue\n",
    "        else:\n",
    "            remove = list(candidates.index)\n",
    "            remove.append(current_index)\n",
    "            \n",
    "            # randomly select from all offers among same category\n",
    "            random_select = random.sample(range(len(corpus_neg_all)),random_neg)\n",
    "            random_pairs = corpus_neg_all.iloc[random_select]\n",
    "            while(any(random_pairs['id'].isin(remove)) or any(random_pairs['cluster_id'] == current_cluster_id)):\n",
    "                random_select = random.sample(range(len(corpus_neg_all)),random_neg)\n",
    "                random_pairs = corpus_neg_all.iloc[random_select]\n",
    "            random_pairs = random_pairs['id'].tolist()\n",
    "\n",
    "            combined_pairs = [hard_pairs, random_pairs]\n",
    "        neg_pairs_cat.append((current_id, combined_pairs))\n",
    "    \n",
    "    return neg_pairs_cat"
   ]
  },
  {
   "cell_type": "markdown",
   "metadata": {},
   "source": [
    "# Pair generation example"
   ]
  },
  {
   "cell_type": "markdown",
   "metadata": {},
   "source": [
    "### Load the corpus data"
   ]
  },
  {
   "cell_type": "code",
   "execution_count": 3,
   "metadata": {},
   "outputs": [
    {
     "data": {
      "text/html": [
       "<div>\n",
       "<style scoped>\n",
       "    .dataframe tbody tr th:only-of-type {\n",
       "        vertical-align: middle;\n",
       "    }\n",
       "\n",
       "    .dataframe tbody tr th {\n",
       "        vertical-align: top;\n",
       "    }\n",
       "\n",
       "    .dataframe thead th {\n",
       "        text-align: right;\n",
       "    }\n",
       "</style>\n",
       "<table border=\"1\" class=\"dataframe\">\n",
       "  <thead>\n",
       "    <tr style=\"text-align: right;\">\n",
       "      <th></th>\n",
       "      <th>id</th>\n",
       "      <th>cluster_id</th>\n",
       "      <th>category</th>\n",
       "      <th>title</th>\n",
       "      <th>description</th>\n",
       "      <th>brand</th>\n",
       "      <th>price</th>\n",
       "      <th>keyValuePairs</th>\n",
       "      <th>specTableContent</th>\n",
       "    </tr>\n",
       "    <tr>\n",
       "      <th>id</th>\n",
       "      <th></th>\n",
       "      <th></th>\n",
       "      <th></th>\n",
       "      <th></th>\n",
       "      <th></th>\n",
       "      <th></th>\n",
       "      <th></th>\n",
       "      <th></th>\n",
       "      <th></th>\n",
       "    </tr>\n",
       "  </thead>\n",
       "  <tbody>\n",
       "    <tr>\n",
       "      <th>11920489</th>\n",
       "      <td>11920489</td>\n",
       "      <td>2533918</td>\n",
       "      <td>Musical_Instruments</td>\n",
       "      <td>\"Ritter RGP5-D/BSG Performance 5 Series Bag: ...</td>\n",
       "      <td>\"\\nThe Ritter RGP5-D padded gigbag offers styl...</td>\n",
       "      <td>None</td>\n",
       "      <td>None</td>\n",
       "      <td>None</td>\n",
       "      <td>None</td>\n",
       "    </tr>\n",
       "    <tr>\n",
       "      <th>12648455</th>\n",
       "      <td>12648455</td>\n",
       "      <td>11167803</td>\n",
       "      <td>Tools_and_Home_Improvement</td>\n",
       "      <td>\"Krowne - 14-802L 8 in Royal Series Wall Moun...</td>\n",
       "      <td>\"The 14-802L Royal Series Wall Mount Faucet w/...</td>\n",
       "      <td>\"Krowne\"@en</td>\n",
       "      <td>None</td>\n",
       "      <td>None</td>\n",
       "      <td>None</td>\n",
       "    </tr>\n",
       "    <tr>\n",
       "      <th>7634831</th>\n",
       "      <td>7634831</td>\n",
       "      <td>11621476</td>\n",
       "      <td>Jewelry</td>\n",
       "      <td>\"A. Jaffe Art Deco ME2105Q-163\" \"Shop A. MES6...</td>\n",
       "      <td>\"&lt;p&gt; An everlasting symbol of love,  model num...</td>\n",
       "      <td>None</td>\n",
       "      <td>None</td>\n",
       "      <td>None</td>\n",
       "      <td>None</td>\n",
       "    </tr>\n",
       "    <tr>\n",
       "      <th>16519583</th>\n",
       "      <td>16519583</td>\n",
       "      <td>8824768</td>\n",
       "      <td>Sports_and_Outdoors</td>\n",
       "      <td>\"Gore bike wear Element Lady 2in1 Shorts\" Sho...</td>\n",
       "      <td>\"\\n\\t\\tProduktbeskrivning Gore bike wear Eleme...</td>\n",
       "      <td>\"Gore bike wear\"</td>\n",
       "      <td>None</td>\n",
       "      <td>None</td>\n",
       "      <td>None</td>\n",
       "    </tr>\n",
       "    <tr>\n",
       "      <th>3362858</th>\n",
       "      <td>3362858</td>\n",
       "      <td>7523117</td>\n",
       "      <td>Shoes</td>\n",
       "      <td></td>\n",
       "      <td>None</td>\n",
       "      <td>None</td>\n",
       "      <td>\"USD\"</td>\n",
       "      <td>None</td>\n",
       "      <td>None</td>\n",
       "    </tr>\n",
       "  </tbody>\n",
       "</table>\n",
       "</div>"
      ],
      "text/plain": [
       "                id  cluster_id                    category  \\\n",
       "id                                                           \n",
       "11920489  11920489     2533918         Musical_Instruments   \n",
       "12648455  12648455    11167803  Tools_and_Home_Improvement   \n",
       "7634831    7634831    11621476                     Jewelry   \n",
       "16519583  16519583     8824768         Sports_and_Outdoors   \n",
       "3362858    3362858     7523117                       Shoes   \n",
       "\n",
       "                                                      title  \\\n",
       "id                                                            \n",
       "11920489   \"Ritter RGP5-D/BSG Performance 5 Series Bag: ...   \n",
       "12648455   \"Krowne - 14-802L 8 in Royal Series Wall Moun...   \n",
       "7634831    \"A. Jaffe Art Deco ME2105Q-163\" \"Shop A. MES6...   \n",
       "16519583   \"Gore bike wear Element Lady 2in1 Shorts\" Sho...   \n",
       "3362858                                                       \n",
       "\n",
       "                                                description             brand  \\\n",
       "id                                                                              \n",
       "11920489  \"\\nThe Ritter RGP5-D padded gigbag offers styl...              None   \n",
       "12648455  \"The 14-802L Royal Series Wall Mount Faucet w/...       \"Krowne\"@en   \n",
       "7634831   \"<p> An everlasting symbol of love,  model num...              None   \n",
       "16519583  \"\\n\\t\\tProduktbeskrivning Gore bike wear Eleme...  \"Gore bike wear\"   \n",
       "3362858                                                None              None   \n",
       "\n",
       "          price keyValuePairs specTableContent  \n",
       "id                                              \n",
       "11920489   None          None             None  \n",
       "12648455   None          None             None  \n",
       "7634831    None          None             None  \n",
       "16519583   None          None             None  \n",
       "3362858   \"USD\"          None             None  "
      ]
     },
     "execution_count": 3,
     "metadata": {},
     "output_type": "execute_result"
    }
   ],
   "source": [
    "corpus = pd.read_json('offers_corpus_english_v2_swc.json.gz', lines=True)\n",
    "corpus = corpus.set_index('id', drop=False)\n",
    "corpus.head()"
   ]
  },
  {
   "cell_type": "markdown",
   "metadata": {},
   "source": [
    "### Select a category and some clusters to build positives for\n",
    "\n",
    "We also need to select (or engineer) an attribute to use for similarity comparisons. It has to be provided in the form of a tokenized list per sample"
   ]
  },
  {
   "cell_type": "code",
   "execution_count": 4,
   "metadata": {},
   "outputs": [],
   "source": [
    "category = 'Computers_and_Accessories'\n",
    "corpus_computers = corpus[corpus['category'] == category].copy()\n",
    "\n",
    "# tokenize title for use in similarity computations\n",
    "tokenized_title = corpus_computers['title'].str.split()\n",
    "corpus_computers['title_tokenized'] = tokenized_title\n",
    "\n",
    "# select clusters with size > 1\n",
    "gt1_bool = corpus_computers['cluster_id'].value_counts() > 1\n",
    "clusters_gt1 = list(gt1_bool[gt1_bool == True].index)\n",
    "random_clusters = random.sample(clusters_gt1, 100)"
   ]
  },
  {
   "cell_type": "markdown",
   "metadata": {},
   "source": [
    "### Build 10 positive pairs (5 hard / 5 random) for each of the selected clusters"
   ]
  },
  {
   "cell_type": "code",
   "execution_count": 5,
   "metadata": {},
   "outputs": [
    {
     "data": {
      "application/vnd.jupyter.widget-view+json": {
       "model_id": "59b03d785d624077ad104b931c2d2ee3",
       "version_major": 2,
       "version_minor": 0
      },
      "text/plain": [
       "HBox(children=(FloatProgress(value=0.0), HTML(value='')))"
      ]
     },
     "metadata": {},
     "output_type": "display_data"
    },
    {
     "name": "stdout",
     "output_type": "stream",
     "text": [
      "\n"
     ]
    }
   ],
   "source": [
    "pos_pairs = build_positive_pairs(corpus_computers, random_clusters, attribute='title_tokenized', num_pos=10)"
   ]
  },
  {
   "cell_type": "markdown",
   "metadata": {},
   "source": [
    "For each offer we built a positive for, we want to build negatives, so first of all we need to select the relevant offer ids:"
   ]
  },
  {
   "cell_type": "code",
   "execution_count": 6,
   "metadata": {},
   "outputs": [],
   "source": [
    "offers_for_negatives = [x[0] for x in pos_pairs]"
   ]
  },
  {
   "cell_type": "markdown",
   "metadata": {},
   "source": [
    "### Build 10 negative pairs (5 hard / 5 random) for each offer that has positives"
   ]
  },
  {
   "cell_type": "code",
   "execution_count": 7,
   "metadata": {},
   "outputs": [
    {
     "name": "stdout",
     "output_type": "stream",
     "text": [
      "Category Computers_and_Accessories query took 10.135547637939453 seconds\n"
     ]
    },
    {
     "data": {
      "application/vnd.jupyter.widget-view+json": {
       "model_id": "131ff00961664639bdbf3eff05d77846",
       "version_major": 2,
       "version_minor": 0
      },
      "text/plain": [
       "HBox(children=(FloatProgress(value=0.0, max=466.0), HTML(value='')))"
      ]
     },
     "metadata": {},
     "output_type": "display_data"
    },
    {
     "name": "stdout",
     "output_type": "stream",
     "text": [
      "\n"
     ]
    }
   ],
   "source": [
    "neg_pairs = build_neg_pairs_for_cat(corpus_computers, category, offers_for_negatives, attribute='title_tokenized', num_neg=10)"
   ]
  },
  {
   "cell_type": "code",
   "execution_count": 8,
   "metadata": {},
   "outputs": [
    {
     "name": "stdout",
     "output_type": "stream",
     "text": [
      "[(3640469, [[204768, 6661367], [15759274]]), (204768, [[3640469, 15759274], [6661367]]), (6661367, [[3640469, 15759274], [204768]]), (15759274, [[204768, 6661367], [3640469]]), (8546404, [[15814565, 15341084, 2657937, 3286938, 15603980], [15758163, 11136228, 17037368, 4483355, 9708144]])]\n",
      "\n",
      "\n",
      "[(16920343, [[13951302, 15545416, 5326737, 1702266, 12649993], [897942, 13906644, 11054593, 6430902, 5275235]]), (4416171, [[14677750, 9601821, 5889786, 14204738, 3881443], [15375264, 1199529, 9594862, 2606521, 529774]]), (13118591, [[6392863, 9187550, 449100, 1777815, 5282676], [6722365, 15017674, 2992783, 5035593, 13875802]]), (2312409, [[7211157, 1141987, 13222955, 10695553, 172265], [9026944, 11979577, 668607, 5741898, 13209193]]), (11253837, [[10827809, 1813737, 9116117, 17003291, 9226955], [10647168, 3991454, 3744991, 14971212, 12426002]])]\n"
     ]
    }
   ],
   "source": [
    "print(f'{pos_pairs[:5]}\\n\\n\\n{neg_pairs[:5]}')"
   ]
  },
  {
   "cell_type": "markdown",
   "metadata": {},
   "source": [
    "Do further processing steps, like deduplication of pairs etc..."
   ]
  }
 ],
 "metadata": {
  "kernelspec": {
   "display_name": "Python 3",
   "language": "python",
   "name": "python3"
  },
  "language_info": {
   "codemirror_mode": {
    "name": "ipython",
    "version": 3
   },
   "file_extension": ".py",
   "mimetype": "text/x-python",
   "name": "python",
   "nbconvert_exporter": "python",
   "pygments_lexer": "ipython3",
   "version": "3.7.6"
  }
 },
 "nbformat": 4,
 "nbformat_minor": 4
}
